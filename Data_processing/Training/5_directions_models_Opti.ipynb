{
 "cells": [
  {
   "cell_type": "code",
   "execution_count": 1,
   "metadata": {},
   "outputs": [
    {
     "name": "stderr",
     "output_type": "stream",
     "text": [
      "C:\\Users\\Rock_\\Anaconda3\\lib\\site-packages\\h5py\\__init__.py:36: FutureWarning: Conversion of the second argument of issubdtype from `float` to `np.floating` is deprecated. In future, it will be treated as `np.float64 == np.dtype(float).type`.\n",
      "  from ._conv import register_converters as _register_converters\n",
      "Using TensorFlow backend.\n"
     ]
    }
   ],
   "source": [
    "from os import listdir\n",
    "from keras.preprocessing.image import load_img\n",
    "from keras.preprocessing.image import img_to_array\n",
    "from PIL import Image\n",
    "import numpy as np\n",
    "import pandas as pd\n",
    "%matplotlib inline\n",
    "import matplotlib.pyplot as plt\n",
    "import random"
   ]
  },
  {
   "cell_type": "code",
   "execution_count": 24,
   "metadata": {},
   "outputs": [],
   "source": [
    "def load_photos(directory):\n",
    "    images = []\n",
    "    labels_speed = []\n",
    "    labels_dir = []\n",
    "    dir_list = listdir(directory)\n",
    "    random.shuffle(dir_list)\n",
    "    for name in dir_list:\n",
    "        filename = directory + '/' + name\n",
    "        # load an image from file\n",
    "        image = load_img(filename, target_size=(96, 160))\n",
    "        # convert the image pixels to a numpy array\n",
    "        image = img_to_array(image)\n",
    "        # get image id + labels\n",
    "        value_dir = float(name.split('_')[1])\n",
    "        value_speed = float(name.split('_')[0])\n",
    "        labels_dir.append(value_dir)\n",
    "        labels_speed.append(value_speed)\n",
    "        images.append(image)\n",
    "    return images, labels_speed, labels_dir"
   ]
  },
  {
   "cell_type": "code",
   "execution_count": 25,
   "metadata": {},
   "outputs": [],
   "source": [
    "dataset = \"../../../../Auto_3\""
   ]
  },
  {
   "cell_type": "code",
   "execution_count": 26,
   "metadata": {},
   "outputs": [
    {
     "name": "stdout",
     "output_type": "stream",
     "text": [
      "Loaded Images and labels for training: 704\n"
     ]
    }
   ],
   "source": [
    "# load images from both train and test groups\n",
    "directory = dataset+'/Train'\n",
    "images, labels_speed, labels_dir = load_photos(directory)\n",
    "nb_images = len(images)\n",
    "print('Loaded Images and labels for training: %d' % nb_images)"
   ]
  },
  {
   "cell_type": "code",
   "execution_count": null,
   "metadata": {},
   "outputs": [],
   "source": []
  },
  {
   "cell_type": "code",
   "execution_count": 27,
   "metadata": {},
   "outputs": [],
   "source": [
    "#Normalise images\n",
    "images = np.array(images)\n",
    "images /= 255.0"
   ]
  },
  {
   "cell_type": "code",
   "execution_count": 28,
   "metadata": {},
   "outputs": [],
   "source": [
    "#convert datas to dummyvalues\n",
    "labels_speed = np.array(pd.get_dummies(labels_speed))\n",
    "labels_dir = np.array(pd.get_dummies(labels_dir))"
   ]
  },
  {
   "cell_type": "code",
   "execution_count": 29,
   "metadata": {},
   "outputs": [
    {
     "data": {
      "text/plain": [
       "(array([1], dtype=uint8),\n",
       " array([0, 0, 1], dtype=uint8),\n",
       " <matplotlib.image.AxesImage at 0x166454142b0>)"
      ]
     },
     "execution_count": 29,
     "metadata": {},
     "output_type": "execute_result"
    },
    {
     "data": {
      "image/png": "[encoded data removed]",
      "text/plain": [
       "<Figure size 432x288 with 1 Axes>"
      ]
     },
     "metadata": {},
     "output_type": "display_data"
    }
   ],
   "source": [
    "labels_speed[42], labels_dir[42], plt.imshow(images[42])"
   ]
  },
  {
   "cell_type": "code",
   "execution_count": null,
   "metadata": {},
   "outputs": [],
   "source": []
  },
  {
   "cell_type": "code",
   "execution_count": 30,
   "metadata": {},
   "outputs": [],
   "source": [
    "from keras.models import Model, Sequential\n",
    "from keras.layers import *\n",
    "import keras.backend as K\n",
    "import keras.optimizers as Optimizers\n",
    "import keras.callbacks"
   ]
  },
  {
   "cell_type": "code",
   "execution_count": 31,
   "metadata": {},
   "outputs": [],
   "source": [
    "#from keras.models import load_model\n",
    "#model = load_model(\"model_bigrace_original_5.h5\")"
   ]
  },
  {
   "cell_type": "code",
   "execution_count": null,
   "metadata": {},
   "outputs": [],
   "source": []
  },
  {
   "cell_type": "code",
   "execution_count": 32,
   "metadata": {},
   "outputs": [
    {
     "name": "stdout",
     "output_type": "stream",
     "text": [
      "_________________________________________________________________\n",
      "Layer (type)                 Output Shape              Param #   \n",
      "=================================================================\n",
      "img_in (InputLayer)          (None, 96, 160, 3)        0         \n",
      "_________________________________________________________________\n",
      "conv2d_1 (Conv2D)            (None, 46, 78, 2)         150       \n",
      "_________________________________________________________________\n",
      "batch_normalization_1 (Batch (None, 46, 78, 2)         8         \n",
      "_________________________________________________________________\n",
      "activation_1 (Activation)    (None, 46, 78, 2)         0         \n",
      "_________________________________________________________________\n",
      "conv2d_2 (Conv2D)            (None, 21, 37, 4)         200       \n",
      "_________________________________________________________________\n",
      "batch_normalization_2 (Batch (None, 21, 37, 4)         16        \n",
      "_________________________________________________________________\n",
      "activation_2 (Activation)    (None, 21, 37, 4)         0         \n",
      "_________________________________________________________________\n",
      "dropout_1 (Dropout)          (None, 21, 37, 4)         0         \n",
      "_________________________________________________________________\n",
      "conv2d_3 (Conv2D)            (None, 9, 17, 8)          800       \n",
      "_________________________________________________________________\n",
      "batch_normalization_3 (Batch (None, 9, 17, 8)          32        \n",
      "_________________________________________________________________\n",
      "activation_3 (Activation)    (None, 9, 17, 8)          0         \n",
      "_________________________________________________________________\n",
      "dropout_2 (Dropout)          (None, 9, 17, 8)          0         \n",
      "_________________________________________________________________\n",
      "flattened (Flatten)          (None, 1224)              0         \n",
      "_________________________________________________________________\n",
      "dense_1 (Dense)              (None, 100)               122400    \n",
      "_________________________________________________________________\n",
      "batch_normalization_4 (Batch (None, 100)               400       \n",
      "_________________________________________________________________\n",
      "activation_4 (Activation)    (None, 100)               0         \n",
      "_________________________________________________________________\n",
      "dropout_3 (Dropout)          (None, 100)               0         \n",
      "_________________________________________________________________\n",
      "dense_2 (Dense)              (None, 50)                5000      \n",
      "_________________________________________________________________\n",
      "batch_normalization_5 (Batch (None, 50)                200       \n",
      "_________________________________________________________________\n",
      "activation_5 (Activation)    (None, 50)                0         \n",
      "_________________________________________________________________\n",
      "dropout_4 (Dropout)          (None, 50)                0         \n",
      "_________________________________________________________________\n",
      "dense_3 (Dense)              (None, 3)                 153       \n",
      "=================================================================\n",
      "Total params: 129,359\n",
      "Trainable params: 129,031\n",
      "Non-trainable params: 328\n",
      "_________________________________________________________________\n"
     ]
    }
   ],
   "source": [
    "'''\n",
    "Model from PatateV2\n",
    "'''\n",
    "\n",
    "K.clear_session()\n",
    "############################################################# \n",
    "\n",
    "img_in = Input(shape=(96, 160, 3), name='img_in')\n",
    "x = img_in\n",
    "\n",
    "x = Convolution2D(2, (5,5), strides=(2,2), use_bias=False)(x)       \n",
    "x = BatchNormalization()(x)\n",
    "x = Activation(\"relu\")(x)\n",
    "x = Convolution2D(4, (5,5), strides=(2,2), use_bias=False)(x)       \n",
    "x = BatchNormalization()(x)\n",
    "x = Activation(\"relu\")(x)\n",
    "x = Dropout(.4)(x)\n",
    "x = Convolution2D(8, (5,5), strides=(2,2), use_bias=False)(x)       \n",
    "x = BatchNormalization()(x)\n",
    "x = Activation(\"relu\")(x)\n",
    "x = Dropout(.5)(x)\n",
    "\n",
    "x = Flatten(name='flattened')(x)\n",
    "\n",
    "x = Dense(100, use_bias=False)(x) \n",
    "x = BatchNormalization()(x)\n",
    "x = Activation(\"relu\")(x)\n",
    "x = Dropout(.4)(x)\n",
    "x = Dense(50, use_bias=False)(x)  \n",
    "x = BatchNormalization()(x)\n",
    "x = Activation(\"relu\")(x)\n",
    "x = Dropout(.3)(x)\n",
    "\n",
    "# Multitask Output\n",
    "\n",
    "#out_speed = Dense(2, activation='softmax')(x)\n",
    "\n",
    "out_dir = Dense(3, activation='softmax')(x)\n",
    "\n",
    "\n",
    "# Compile Model\n",
    "model = Model(inputs=[img_in], outputs=[out_dir])\n",
    "model.compile(loss='categorical_crossentropy', optimizer='adadelta', metrics=['accuracy'])\n",
    "\n",
    "model.summary()"
   ]
  },
  {
   "cell_type": "code",
   "execution_count": 33,
   "metadata": {},
   "outputs": [],
   "source": [
    "model_name=\"model_lille_3.h5\""
   ]
  },
  {
   "cell_type": "code",
   "execution_count": 34,
   "metadata": {},
   "outputs": [],
   "source": [
    "#save best model if model improved\n",
    "best_checkpoint = keras.callbacks.ModelCheckpoint(model_name, monitor='val_loss', verbose=1, save_best_only=True, mode='min')"
   ]
  },
  {
   "cell_type": "code",
   "execution_count": null,
   "metadata": {
    "scrolled": false
   },
   "outputs": [
    {
     "name": "stdout",
     "output_type": "stream",
     "text": [
      "Train on 563 samples, validate on 141 samples\n",
      "Epoch 1/50\n",
      "563/563 [==============================] - 10s 18ms/step - loss: 1.3404 - acc: 0.3055 - val_loss: 1.0652 - val_acc: 0.4752\n",
      "\n",
      "Epoch 00001: val_loss improved from inf to 1.06521, saving model to model_lille_3.h5\n",
      "Epoch 2/50\n",
      "563/563 [==============================] - 9s 17ms/step - loss: 1.2393 - acc: 0.3979 - val_loss: 1.0248 - val_acc: 0.5035\n",
      "\n",
      "Epoch 00002: val_loss improved from 1.06521 to 1.02477, saving model to model_lille_3.h5\n",
      "Epoch 3/50\n",
      "563/563 [==============================] - 10s 17ms/step - loss: 1.1611 - acc: 0.4263 - val_loss: 1.0862 - val_acc: 0.4184\n",
      "\n",
      "Epoch 00003: val_loss did not improve\n",
      "Epoch 4/50\n",
      "563/563 [==============================] - 11s 19ms/step - loss: 1.0908 - acc: 0.4281 - val_loss: 0.9780 - val_acc: 0.4823\n",
      "\n",
      "Epoch 00004: val_loss improved from 1.02477 to 0.97798, saving model to model_lille_3.h5\n",
      "Epoch 5/50\n",
      "563/563 [==============================] - 10s 18ms/step - loss: 0.9981 - acc: 0.5062 - val_loss: 0.9148 - val_acc: 0.5674\n",
      "\n",
      "Epoch 00005: val_loss improved from 0.97798 to 0.91480, saving model to model_lille_3.h5\n",
      "Epoch 6/50\n",
      "563/563 [==============================] - 10s 17ms/step - loss: 0.9227 - acc: 0.5773 - val_loss: 0.9161 - val_acc: 0.5532\n",
      "\n",
      "Epoch 00006: val_loss did not improve\n",
      "Epoch 7/50\n",
      "563/563 [==============================] - 11s 19ms/step - loss: 0.8850 - acc: 0.5844 - val_loss: 0.8915 - val_acc: 0.5745\n",
      "\n",
      "Epoch 00007: val_loss improved from 0.91480 to 0.89145, saving model to model_lille_3.h5\n",
      "Epoch 8/50\n",
      "563/563 [==============================] - 9s 17ms/step - loss: 0.8541 - acc: 0.6057 - val_loss: 1.2017 - val_acc: 0.4681\n",
      "\n",
      "Epoch 00008: val_loss did not improve\n",
      "Epoch 9/50\n",
      "563/563 [==============================] - 10s 17ms/step - loss: 0.7745 - acc: 0.6590 - val_loss: 1.0551 - val_acc: 0.5319\n",
      "\n",
      "Epoch 00009: val_loss did not improve\n",
      "Epoch 10/50\n",
      "563/563 [==============================] - 10s 17ms/step - loss: 0.7640 - acc: 0.6945 - val_loss: 1.0552 - val_acc: 0.5461\n",
      "\n",
      "Epoch 00010: val_loss did not improve\n",
      "Epoch 11/50\n",
      "563/563 [==============================] - 10s 18ms/step - loss: 0.7553 - acc: 0.6945 - val_loss: 0.9485 - val_acc: 0.6170\n",
      "\n",
      "Epoch 00011: val_loss did not improve\n",
      "Epoch 12/50\n",
      "563/563 [==============================] - 9s 15ms/step - loss: 0.6826 - acc: 0.7211 - val_loss: 0.8763 - val_acc: 0.6454\n",
      "\n",
      "Epoch 00012: val_loss improved from 0.89145 to 0.87632, saving model to model_lille_3.h5\n",
      "Epoch 13/50\n",
      "563/563 [==============================] - 10s 18ms/step - loss: 0.7079 - acc: 0.7140 - val_loss: 0.6895 - val_acc: 0.7021\n",
      "\n",
      "Epoch 00013: val_loss improved from 0.87632 to 0.68947, saving model to model_lille_3.h5\n",
      "Epoch 14/50\n",
      "563/563 [==============================] - 11s 19ms/step - loss: 0.6365 - acc: 0.7584 - val_loss: 0.7158 - val_acc: 0.7092\n",
      "\n",
      "Epoch 00014: val_loss did not improve\n",
      "Epoch 15/50\n",
      "563/563 [==============================] - 10s 18ms/step - loss: 0.6472 - acc: 0.7265 - val_loss: 0.7853 - val_acc: 0.6738\n",
      "\n",
      "Epoch 00015: val_loss did not improve\n",
      "Epoch 16/50\n",
      "563/563 [==============================] - 10s 18ms/step - loss: 0.5709 - acc: 0.7673 - val_loss: 0.6614 - val_acc: 0.7376\n",
      "\n",
      "Epoch 00016: val_loss improved from 0.68947 to 0.66141, saving model to model_lille_3.h5\n",
      "Epoch 17/50\n",
      "563/563 [==============================] - 9s 17ms/step - loss: 0.5866 - acc: 0.7567 - val_loss: 0.8371 - val_acc: 0.5745\n",
      "\n",
      "Epoch 00017: val_loss did not improve\n",
      "Epoch 18/50\n",
      "563/563 [==============================] - 11s 19ms/step - loss: 0.5891 - acc: 0.7620 - val_loss: 0.6631 - val_acc: 0.7092\n",
      "\n",
      "Epoch 00018: val_loss did not improve\n",
      "Epoch 19/50\n",
      "563/563 [==============================] - 10s 18ms/step - loss: 0.5650 - acc: 0.7744 - val_loss: 0.5555 - val_acc: 0.7730\n",
      "\n",
      "Epoch 00019: val_loss improved from 0.66141 to 0.55547, saving model to model_lille_3.h5\n",
      "Epoch 20/50\n",
      "563/563 [==============================] - 11s 19ms/step - loss: 0.5076 - acc: 0.7922 - val_loss: 0.5346 - val_acc: 0.7518\n",
      "\n",
      "Epoch 00020: val_loss improved from 0.55547 to 0.53461, saving model to model_lille_3.h5\n",
      "Epoch 21/50\n",
      "563/563 [==============================] - 10s 18ms/step - loss: 0.5361 - acc: 0.7744 - val_loss: 0.5280 - val_acc: 0.7589\n",
      "\n",
      "Epoch 00021: val_loss improved from 0.53461 to 0.52798, saving model to model_lille_3.h5\n",
      "Epoch 22/50\n",
      "563/563 [==============================] - 12s 22ms/step - loss: 0.5004 - acc: 0.8028 - val_loss: 0.5079 - val_acc: 0.7872\n",
      "\n",
      "Epoch 00022: val_loss improved from 0.52798 to 0.50787, saving model to model_lille_3.h5\n",
      "Epoch 23/50\n",
      "563/563 [==============================] - 10s 17ms/step - loss: 0.4901 - acc: 0.8082 - val_loss: 0.5484 - val_acc: 0.7518\n",
      "\n",
      "Epoch 00023: val_loss did not improve\n",
      "Epoch 24/50\n",
      "563/563 [==============================] - 9s 17ms/step - loss: 0.4601 - acc: 0.8224 - val_loss: 0.4938 - val_acc: 0.7518\n",
      "\n",
      "Epoch 00024: val_loss improved from 0.50787 to 0.49382, saving model to model_lille_3.h5\n",
      "Epoch 25/50\n",
      "563/563 [==============================] - 9s 16ms/step - loss: 0.4815 - acc: 0.7922 - val_loss: 0.4967 - val_acc: 0.8014\n",
      "\n",
      "Epoch 00025: val_loss did not improve\n",
      "Epoch 26/50\n",
      "563/563 [==============================] - 9s 16ms/step - loss: 0.4677 - acc: 0.8224 - val_loss: 0.5183 - val_acc: 0.7730\n",
      "\n",
      "Epoch 00026: val_loss did not improve\n",
      "Epoch 27/50\n",
      "563/563 [==============================] - 10s 18ms/step - loss: 0.4625 - acc: 0.8082 - val_loss: 0.4633 - val_acc: 0.7801\n",
      "\n",
      "Epoch 00027: val_loss improved from 0.49382 to 0.46326, saving model to model_lille_3.h5\n",
      "Epoch 28/50\n",
      "563/563 [==============================] - 10s 18ms/step - loss: 0.4636 - acc: 0.8099 - val_loss: 0.5196 - val_acc: 0.7872\n",
      "\n",
      "Epoch 00028: val_loss did not improve\n",
      "Epoch 29/50\n",
      "563/563 [==============================] - 10s 18ms/step - loss: 0.4358 - acc: 0.8135 - val_loss: 0.4880 - val_acc: 0.7872\n",
      "\n",
      "Epoch 00029: val_loss did not improve\n",
      "Epoch 30/50\n",
      "563/563 [==============================] - 11s 19ms/step - loss: 0.4181 - acc: 0.8295 - val_loss: 0.5147 - val_acc: 0.7730\n",
      "\n",
      "Epoch 00030: val_loss did not improve\n",
      "Epoch 31/50\n",
      "563/563 [==============================] - 9s 16ms/step - loss: 0.4318 - acc: 0.8277 - val_loss: 0.7581 - val_acc: 0.7660\n",
      "\n",
      "Epoch 00031: val_loss did not improve\n",
      "Epoch 32/50\n",
      "563/563 [==============================] - 10s 18ms/step - loss: 0.4136 - acc: 0.8224 - val_loss: 0.4774 - val_acc: 0.7801\n",
      "\n",
      "Epoch 00032: val_loss did not improve\n",
      "Epoch 33/50\n",
      "563/563 [==============================] - 10s 19ms/step - loss: 0.4251 - acc: 0.8224 - val_loss: 0.5278 - val_acc: 0.7801\n",
      "\n",
      "Epoch 00033: val_loss did not improve\n",
      "Epoch 34/50\n",
      "563/563 [==============================] - 10s 18ms/step - loss: 0.4185 - acc: 0.8171 - val_loss: 0.4403 - val_acc: 0.7730\n",
      "\n",
      "Epoch 00034: val_loss improved from 0.46326 to 0.44029, saving model to model_lille_3.h5\n",
      "Epoch 35/50\n",
      "563/563 [==============================] - 10s 18ms/step - loss: 0.3960 - acc: 0.8384 - val_loss: 0.4028 - val_acc: 0.7872\n",
      "\n",
      "Epoch 00035: val_loss improved from 0.44029 to 0.40280, saving model to model_lille_3.h5\n",
      "Epoch 36/50\n",
      "563/563 [==============================] - 11s 20ms/step - loss: 0.4275 - acc: 0.8206 - val_loss: 0.4472 - val_acc: 0.7872\n",
      "\n",
      "Epoch 00036: val_loss did not improve\n",
      "Epoch 37/50\n",
      "563/563 [==============================] - 11s 20ms/step - loss: 0.3997 - acc: 0.8135 - val_loss: 0.4151 - val_acc: 0.8014\n",
      "\n",
      "Epoch 00037: val_loss did not improve\n",
      "Epoch 38/50\n",
      "563/563 [==============================] - 12s 21ms/step - loss: 0.4018 - acc: 0.8277 - val_loss: 0.4441 - val_acc: 0.7872\n",
      "\n",
      "Epoch 00038: val_loss did not improve\n",
      "Epoch 39/50\n",
      "563/563 [==============================] - 12s 22ms/step - loss: 0.4028 - acc: 0.8384 - val_loss: 0.5108 - val_acc: 0.7801\n",
      "\n",
      "Epoch 00039: val_loss did not improve\n",
      "Epoch 40/50\n",
      "563/563 [==============================] - 11s 20ms/step - loss: 0.3841 - acc: 0.8330 - val_loss: 0.4257 - val_acc: 0.7943\n",
      "\n",
      "Epoch 00040: val_loss did not improve\n",
      "Epoch 41/50\n",
      "563/563 [==============================] - 12s 21ms/step - loss: 0.3501 - acc: 0.8561 - val_loss: 0.4618 - val_acc: 0.7801\n",
      "\n",
      "Epoch 00041: val_loss did not improve\n",
      "Epoch 42/50\n",
      "563/563 [==============================] - 10s 17ms/step - loss: 0.3588 - acc: 0.8455 - val_loss: 1.0123 - val_acc: 0.6028\n",
      "\n",
      "Epoch 00042: val_loss did not improve\n",
      "Epoch 43/50\n"
     ]
    },
    {
     "name": "stdout",
     "output_type": "stream",
     "text": [
      "563/563 [==============================] - 10s 18ms/step - loss: 0.3757 - acc: 0.8384 - val_loss: 0.4133 - val_acc: 0.8156\n",
      "\n",
      "Epoch 00043: val_loss did not improve\n",
      "Epoch 44/50\n",
      "563/563 [==============================] - 11s 20ms/step - loss: 0.3718 - acc: 0.8632 - val_loss: 0.4626 - val_acc: 0.8085\n",
      "\n",
      "Epoch 00044: val_loss did not improve\n",
      "Epoch 45/50\n",
      "563/563 [==============================] - 11s 20ms/step - loss: 0.3466 - acc: 0.8544 - val_loss: 0.4348 - val_acc: 0.8369\n",
      "\n",
      "Epoch 00045: val_loss did not improve\n",
      "Epoch 46/50\n",
      "563/563 [==============================] - 14s 25ms/step - loss: 0.3657 - acc: 0.8295 - val_loss: 0.4008 - val_acc: 0.8014\n",
      "\n",
      "Epoch 00046: val_loss improved from 0.40280 to 0.40082, saving model to model_lille_3.h5\n",
      "Epoch 47/50\n",
      "563/563 [==============================] - 14s 25ms/step - loss: 0.3907 - acc: 0.8508 - val_loss: 0.5498 - val_acc: 0.7872\n",
      "\n",
      "Epoch 00047: val_loss did not improve\n",
      "Epoch 48/50\n",
      "563/563 [==============================] - 15s 27ms/step - loss: 0.3761 - acc: 0.8313 - val_loss: 0.3922 - val_acc: 0.8014\n",
      "\n",
      "Epoch 00048: val_loss improved from 0.40082 to 0.39223, saving model to model_lille_3.h5\n",
      "Epoch 49/50\n",
      "563/563 [==============================] - 14s 25ms/step - loss: 0.3169 - acc: 0.8668 - val_loss: 0.4512 - val_acc: 0.8085\n",
      "\n",
      "Epoch 00049: val_loss did not improve\n",
      "Epoch 50/50\n",
      " 64/563 [==>...........................] - ETA: 5s - loss: 0.3848 - acc: 0.8281"
     ]
    }
   ],
   "source": [
    "h = model.fit(images, [labels_dir], batch_size=64, epochs=50, validation_split=0.2, verbose=1, callbacks=[best_checkpoint])"
   ]
  },
  {
   "cell_type": "code",
   "execution_count": 16,
   "metadata": {},
   "outputs": [
    {
     "data": {
      "text/plain": [
       "<matplotlib.axes._subplots.AxesSubplot at 0x166436edfd0>"
      ]
     },
     "execution_count": 16,
     "metadata": {},
     "output_type": "execute_result"
    },
    {
     "data": {
      "image/png": "[encoded data removed]",
      "text/plain": [
       "<Figure size 432x288 with 1 Axes>"
      ]
     },
     "metadata": {},
     "output_type": "display_data"
    }
   ],
   "source": [
    "#print History graph\n",
    "historydf = pd.DataFrame(h.history, index=h.epoch)\n",
    "historydf.plot(ylim=(0,1))"
   ]
  },
  {
   "cell_type": "code",
   "execution_count": null,
   "metadata": {
    "collapsed": true
   },
   "outputs": [],
   "source": []
  },
  {
   "cell_type": "code",
   "execution_count": null,
   "metadata": {
    "collapsed": true
   },
   "outputs": [],
   "source": []
  }
 ],
 "metadata": {
  "kernelspec": {
   "display_name": "Python 3",
   "language": "python",
   "name": "python3"
  },
  "language_info": {
   "codemirror_mode": {
    "name": "ipython",
    "version": 3
   },
   "file_extension": ".py",
   "mimetype": "text/x-python",
   "name": "python",
   "nbconvert_exporter": "python",
   "pygments_lexer": "ipython3",
   "version": "3.6.5"
  }
 },
 "nbformat": 4,
 "nbformat_minor": 2
}
